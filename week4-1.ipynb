{
 "cells": [
  {
   "cell_type": "markdown",
   "metadata": {},
   "source": [
    "# Project Title: A system for recommendation of restaurants in Bangalore"
   ]
  },
  {
   "cell_type": "markdown",
   "metadata": {},
   "source": [
    "## Problem background"
   ]
  },
  {
   "cell_type": "markdown",
   "metadata": {},
   "source": [
    "#### Bangalore is the capital city of Karnataka, India. It is one of the most populated cities in India. The diversity of the cuisine available is reflective of its diversity. Bangalore has Thai restaurants, Japanese restaurants, Korean, North Indian, South Indian, and the list wouldn't end. Therefore, the idea of developing a recommender system for restaurants in Bangalore was used as an idea for this project. "
   ]
  },
  {
   "cell_type": "markdown",
   "metadata": {},
   "source": [
    "## Problems to be addressed"
   ]
  },
  {
   "cell_type": "markdown",
   "metadata": {},
   "source": [
    "#### 1. What are the types of restaurants present in a particular area ?\n",
    "#### 2. where are the similar restaurant present based on a preference to particular food ?\n",
    "#### 3. How do different restaurants rank with respect to users preference ?"
   ]
  },
  {
   "cell_type": "markdown",
   "metadata": {},
   "source": [
    "## Target users and success rate "
   ]
  },
  {
   "cell_type": "markdown",
   "metadata": {},
   "source": [
    "#### Target audience includes every person residing in Bangalore. People could simply decide to look for a similar restaurant all the time because they are addicted to a specific category of food.  So target for this project is basically everyone who is exploring different places or similar places. With restaurants evolving, new food categories emerge, we need a system that could help us. It is impossible for a person to visit a each and every place and then decide. On the other hand, Computers are good at remembering things, and Machine learning technology can serve us as our personal guide. So this project would serve as personal assistance and success rate could certainly increase with time."
   ]
  },
  {
   "cell_type": "code",
   "execution_count": null,
   "metadata": {},
   "outputs": [],
   "source": []
  }
 ],
 "metadata": {
  "kernelspec": {
   "display_name": "Python",
   "language": "python",
   "name": "conda-env-python-py"
  },
  "language_info": {
   "codemirror_mode": {
    "name": "ipython",
    "version": 3
   },
   "file_extension": ".py",
   "mimetype": "text/x-python",
   "name": "python",
   "nbconvert_exporter": "python",
   "pygments_lexer": "ipython3",
   "version": "3.6.7"
  }
 },
 "nbformat": 4,
 "nbformat_minor": 4
}
